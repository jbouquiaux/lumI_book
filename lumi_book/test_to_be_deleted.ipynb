{
 "cells": [
  {
   "cell_type": "code",
   "execution_count": 1,
   "id": "6ee57358-4995-4272-b378-c7e54f54d11c",
   "metadata": {},
   "outputs": [],
   "source": [
    "from abipy.lumi.deltaSCF import DeltaSCF\n",
    "import warnings\n",
    "warnings.filterwarnings('ignore')\n",
    "import matplotlib.pyplot as plt\n",
    "import numpy as np\n",
    "%matplotlib inline\n",
    "from abipy.tools.plotting import get_ax_fig_plt,get_axarray_fig_plt,add_fig_kwargs\n",
    "import phonopy\n",
    "from abipy.abilab import abiopen\n",
    "from abipy.dfpt.converters import ddb_ucell_to_phonopy_supercell\n",
    "from abipy.embedding.embedding_ifc import Embedded_phonons\n",
    "from pymatgen.io.phonopy import get_pmg_structure\n",
    "from abipy.core.kpoints import kmesh_from_mpdivs\n"
   ]
  },
  {
   "cell_type": "code",
   "execution_count": 2,
   "id": "101c6591-ec20-49ec-aae7-d2fd10b565bd",
   "metadata": {},
   "outputs": [],
   "source": [
    "ddb_pristine=abiopen(\"lumi/flow_phonons/w0/outdata/out_DDB\")\n",
    "sc_sizes=[[1,1,2],[2,2,2],]#[2,2,4],[2,2,6],[2,2,8],[3,3,8]]\n",
    "\n",
    "qpts_s=[kmesh_from_mpdivs(mpdivs=sc_size,shifts=[0,0,0],order=\"unit_cell\") for sc_size in sc_sizes ]\n",
    "ddb_pristine_inters=[ddb_pristine.anaget_interpolated_ddb(qpt_list=qpts)for qpts in qpts_s]\n"
   ]
  },
  {
   "cell_type": "code",
   "execution_count": 4,
   "id": "f5aac784-b082-429b-90de-1640e2454ee4",
   "metadata": {},
   "outputs": [],
   "source": [
    "ph_pristines=[ddb_ucell_to_phonopy_supercell(ddb_pristine_inter,nac=False)\n",
    "              for ddb_pristine_inter in ddb_pristine_inters]\n",
    "\n"
   ]
  },
  {
   "cell_type": "code",
   "execution_count": 5,
   "id": "c6496ba9-5abb-4646-98f0-f79a1af851eb",
   "metadata": {},
   "outputs": [],
   "source": [
    "ph_defect=phonopy.load(supercell_filename=\"lumi/flow_phonons_doped/w0/outdata/POSCAR\",\n",
    "                       force_sets_filename=\"lumi/flow_phonons_doped/w0/outdata/FORCE_SETS\")\n"
   ]
  },
  {
   "cell_type": "code",
   "execution_count": 7,
   "id": "61cb2d19-5b9c-4220-a67b-4753c96bbc14",
   "metadata": {},
   "outputs": [],
   "source": [
    "# We need first to create the defect structure without relax\n",
    "structure_defect_wo_relax=ddb_pristine.structure.copy()\n",
    "structure_defect_wo_relax.make_supercell([1,1,2])\n",
    "structure_defect_wo_relax.replace(0,'Eu')\n",
    "#structure_defect_wo_relax.sort()\n",
    "\n",
    "# index of the sub. = 0 (in defect structure), this is found manually\n",
    "idefect_defect_stru=0\n",
    "main_defect_coords_in_defect=structure_defect_wo_relax.cart_coords[idefect_defect_stru]\n",
    "\n",
    "# index of the sub. = 0 (in pristine structure), this is found manually\n",
    "from pymatgen.io.phonopy import get_pmg_structure\n",
    "idefect_pristine_stru=0\n",
    "main_defect_coords_in_pristine=get_pmg_structure(ph_pristines[0].supercell).cart_coords[idefect_pristine_stru]\n"
   ]
  },
  {
   "cell_type": "code",
   "execution_count": 8,
   "id": "0fd42832-bbae-497e-9ed7-937e679912fd",
   "metadata": {
    "scrolled": true
   },
   "outputs": [
    {
     "name": "stdout",
     "output_type": "stream",
     "text": [
      "Number of atoms in the pristine supercell      : 36\n",
      "Number of atoms in the defective supercell     : 36\n",
      "Defect infos\n",
      "    Substitutions:\n",
      "       0, [3.9795 0.     1.592 ], Sr1 replaced by Eu\n",
      "Mapping after structure manipulation           : 36/36\n",
      "\n",
      " Set IFC to explicit defect phonons calculations if both atoms are separated from defect by a distance < R_c2 = 3\n",
      "\n",
      " Enforce ASR\n",
      "\n",
      " Embedding procedure done\n",
      "Number of atoms in the pristine supercell      : 144\n",
      "Number of atoms in the defective supercell     : 36\n",
      "Defect infos\n",
      "    Substitutions:\n",
      "       0, [3.9795 0.     1.592 ], Sr1 replaced by Eu\n",
      "Mapping after structure manipulation           : 36/36\n",
      "\n",
      " Set IFC to explicit defect phonons calculations if both atoms are separated from defect by a distance < R_c2 = 3\n",
      "\n",
      " Enforce ASR\n",
      "\n",
      " Embedding procedure done\n"
     ]
    }
   ],
   "source": [
    "emb_ph_s=[Embedded_phonons.from_phonopy_instances(phonopy_pristine=ph_pristine,\n",
    "                                               phonopy_defect=ph_defect,\n",
    "                                               structure_defect_wo_relax=structure_defect_wo_relax,\n",
    "                                               main_defect_coords_in_defect=main_defect_coords_in_defect,\n",
    "                                               main_defect_coords_in_pristine=main_defect_coords_in_pristine,\n",
    "                                               substitutions_list=[[idefect_pristine_stru,\"Eu\"]],\n",
    "                                               cut_off_mode=\"manual\",rc_2=3,rc_1=1000,verbose=False\n",
    "                                       ) for ph_pristine in ph_pristines]"
   ]
  },
  {
   "cell_type": "code",
   "execution_count": 9,
   "id": "c4075ee5-4281-43ab-9548-145aa50381e0",
   "metadata": {},
   "outputs": [],
   "source": [
    "files=[\"lumi/flow_deltaSCF/w0/t2/outdata/out_GSR.nc\",\n",
    "        \"lumi/flow_deltaSCF/w0/t3/outdata/out_GSR.nc\",\n",
    "        \"lumi/flow_deltaSCF/w0/t4/outdata/out_GSR.nc\",\n",
    "        \"lumi/flow_deltaSCF/w0/t5/outdata/out_GSR.nc\",]\n",
    "results=DeltaSCF.from_four_points_file(files) "
   ]
  },
  {
   "cell_type": "code",
   "execution_count": 10,
   "id": "fcbdbbcf-4ae3-4279-8e95-166d32de50e6",
   "metadata": {},
   "outputs": [],
   "source": [
    "from abipy.lumi.lineshape import Lineshape"
   ]
  },
  {
   "cell_type": "code",
   "execution_count": 11,
   "id": "c318f3c8-9532-480e-998a-231c83ed1679",
   "metadata": {},
   "outputs": [
    {
     "name": "stdout",
     "output_type": "stream",
     "text": [
      "Mapping between delta SCF supercell and phonon supercell succeeded.  36 / 36\n",
      "Mapping between delta SCF supercell and phonon supercell succeeded.  36 / 36\n"
     ]
    }
   ],
   "source": [
    "lineshapes=[Lineshape.from_phonopy_phonons(E_zpl=results.E_zpl(),\n",
    "                                         phonopy_ph=emb_ph,\n",
    "                                         dSCF_structure=results.structure_gs(),\n",
    "                                         use_forces=True,\n",
    "                                         dSCF_displacements=results.diff_pos(),\n",
    "                                         dSCF_forces=results.forces_gs,\n",
    "                                         coords_defect_dSCF=np.array([3.9795, 0.0000, 1.5920]),\n",
    "                                         coords_defect_phonons=np.array([0,0,0]))\n",
    "           for emb_ph in emb_ph_s]"
   ]
  },
  {
   "cell_type": "code",
   "execution_count": 14,
   "id": "866e3fdc-4e47-4697-a02e-47cf79eaf8ec",
   "metadata": {},
   "outputs": [],
   "source": [
    "from abipy.embedding.utils_ifc import localization_ratio\n",
    "freqs,vecs=emb_ph_s[0].get_gamma_freq_with_vec_abipy_fmt()\n",
    "local_ratio=localization_ratio(vecs)"
   ]
  },
  {
   "cell_type": "code",
   "execution_count": 15,
   "id": "1ab8e397-0581-4116-ac7c-5ec1889b0ade",
   "metadata": {},
   "outputs": [],
   "source": [
    "from abipy.tools.plotting import get_ax_fig_plt\n",
    "def plot_spectral_function(broadening=1,ax=None,with_S_nu=False,with_local_ratio=True,**kwargs):\n",
    "    \"\"\"     \n",
    "    Plot the Huang-Rhys spectral function S_hbarOmega\n",
    "\n",
    "    Args:\n",
    "        broadening: fwhm of the gaussian broadening in meV\n",
    "        with_S_nu: True to add stem lines associated to the individuals partial Huang-Rhys factors\n",
    "    \"\"\"     \n",
    "    ax, fig, plt = get_ax_fig_plt(ax=ax)\n",
    "    S_nu=lineshape.S_nu()\n",
    "    omega_nu=lineshape.ph_eigfreq\n",
    "    S_x,S_y=lineshape.S_hbarOmega(broadening=broadening)\n",
    "\n",
    "    if with_local_ratio==True:\n",
    "        ax2=ax.twinx()\n",
    "        scat=ax2.scatter(omega_nu,S_nu,c=local_ratio,cmap=\"turbo\",norm=\"log\",alpha=0.7)\n",
    "        fig.colorbar(scat,location=\"top\",shrink=0.6)\n",
    "        ax2.set_ylabel(r'$S_{\\nu}$')\n",
    "\n",
    "    if with_S_nu==True:\n",
    "        ax2=ax.twinx()\n",
    "        markerline, stemlines, baseline = ax2.stem(omega_nu,S_nu,markerfmt='o',basefmt=\"k\")\n",
    "        plt.setp(markerline,'color')\n",
    "        plt.setp(stemlines, 'color', plt.getp(markerline, 'color'))\n",
    "        plt.setp(stemlines, 'linestyle', 'dotted')\n",
    "        ax2.set_ylabel(r'$S_{\\nu}$')\n",
    "\n",
    "    ax.plot(S_x,S_y,**kwargs)\n",
    "    ax.set_xlabel('Phonon energy (eV)')\n",
    "    ax.set_ylabel(r'$S(\\hbar\\omega)$  (1/eV)')\n",
    "\n",
    "    return fig"
   ]
  },
  {
   "cell_type": "code",
   "execution_count": 17,
   "id": "709eeb67-2e2c-4ac5-9e7a-23f0229f1ee9",
   "metadata": {},
   "outputs": [
    {
     "data": {
      "text/plain": [
       "<matplotlib.legend.Legend at 0x16bceef50>"
      ]
     },
     "execution_count": 17,
     "metadata": {},
     "output_type": "execute_result"
    },
    {
     "data": {
      "image/png": "[encoded data removed]",
      "text/plain": [
       "<Figure size 640x480 with 1 Axes>"
      ]
     },
     "metadata": {},
     "output_type": "display_data"
    }
   ],
   "source": [
    "fig,ax=plt.subplots()\n",
    "for i,lineshape in enumerate(lineshapes):\n",
    "    lineshape.plot_spectral_function(ax=ax,show=False,label=f'{sc_sizes[i]}, S={np.round(lineshape.S_tot(),2)}',broadening=2)\n",
    "plt.legend()\n",
    "    #    plot_spectral_function(color=\"k\");"
   ]
  },
  {
   "cell_type": "code",
   "execution_count": 18,
   "id": "f1bd3008-73da-4162-964c-91d4eb79a893",
   "metadata": {},
   "outputs": [
    {
     "name": "stdout",
     "output_type": "stream",
     "text": [
      "Help on method from_phonopy_phonons in module abipy.lumi.lineshape:\n",
      "\n",
      "from_phonopy_phonons(E_zpl, phonopy_ph, dSCF_structure, use_forces=True, dSCF_displacements=None, dSCF_forces=None, coords_defect_dSCF=None, coords_defect_phonons=None, tol=0.3) class method of abipy.lumi.lineshape.Lineshape\n",
      "    Different levels of approximations for the phonons and force/displacements: \n",
      "    See discussion in the supplementary informations of https://pubs.acs.org/doi/full/10.1021/acs.chemmater.3c00537, section (1).\n",
      "    \n",
      "     - size_supercell deltaSCF = size_supercell phonons (phonons of the bulk structure or phonons of defect structure).\n",
      "       Use of the forces or the displacemements is allowed.   \n",
      "    \n",
      "     - size_supercell dSCF < size_bulk_supercell phonons (bulk)\n",
      "       Use of the forces only.\n",
      "    \n",
      "     - size_supercell dSCF < size__defect_supercell phonons (embedding) \n",
      "       Use of the forces only\n",
      "    \n",
      "     The code first extracts the eigenmodes of the phonopy object. Then, it tries performs a structure matching between the phonopy \n",
      "     structure and the dSCF structure (critical part) in order to put the displacements/forces on the right atoms. \n",
      "    \n",
      "     Args:\n",
      "         E_zpl: Zero-phonon line energy in eV\n",
      "         phonopy_ph  : Phonopy object containing eigenfrequencies and eigenvectors\n",
      "         dSCF_structure : Delta_SCF structure\n",
      "         dSCF_displacements : Dispalcements \\Delta R induced by the electronic transition\n",
      "         dSCF_forces : Dispalcements \\Delta F induced by the electronic transition\n",
      "         coords_defect_dSCF : Main coordinates of the defect in defect structure, if defect complex, can be set to the\n",
      "             center of mass of the complex\n",
      "         tol : tolerance in Angstrom applied for the matching between the dSCF structure and phonon structure\n",
      "     Returns:\n",
      "         A lineshape object\n",
      "\n"
     ]
    }
   ],
   "source": [
    "help(lineshape.from_phonopy_phonons)"
   ]
  },
  {
   "cell_type": "code",
   "execution_count": 13,
   "id": "9a588433-7e11-4320-b991-521d2fed2640",
   "metadata": {},
   "outputs": [],
   "source": []
  },
  {
   "cell_type": "code",
   "execution_count": 14,
   "id": "d6f3def2-f506-4fc4-b575-caae4d69caa3",
   "metadata": {},
   "outputs": [],
   "source": []
  },
  {
   "cell_type": "code",
   "execution_count": null,
   "id": "241dc93d-b94f-472b-96fb-51050066ad4b",
   "metadata": {},
   "outputs": [],
   "source": []
  }
 ],
 "metadata": {
  "kernelspec": {
   "display_name": "Python 3 (ipykernel)",
   "language": "python",
   "name": "python3"
  },
  "language_info": {
   "codemirror_mode": {
    "name": "ipython",
    "version": 3
   },
   "file_extension": ".py",
   "mimetype": "text/x-python",
   "name": "python",
   "nbconvert_exporter": "python",
   "pygments_lexer": "ipython3",
   "version": "3.11.9"
  }
 },
 "nbformat": 4,
 "nbformat_minor": 5
}
