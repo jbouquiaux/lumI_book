{
 "cells": [
  {
   "cell_type": "code",
   "execution_count": 1,
   "id": "933609a6-a7df-4ef1-83c1-fbcfb2b861e4",
   "metadata": {},
   "outputs": [],
   "source": [
    "from abipy.flowtk.lumi_works import LumiWork"
   ]
  },
  {
   "cell_type": "code",
   "execution_count": 5,
   "id": "286e4080-aaad-408c-999b-87d5df4ff369",
   "metadata": {},
   "outputs": [
    {
     "name": "stdout",
     "output_type": "stream",
     "text": [
      "\n",
      "    This Work implements Fig 1 of https://arxiv.org/abs/2010.00423.\n",
      "\n",
      "    Client code is responsible for the preparation of the supercell and\n",
      "    of the GS SCF input files with the fixed electronic occupations associated to the two configurations.\n",
      "    By default, the work computes the two relaxed structures and the four total energies\n",
      "    corresponding to the Ag, Ag*, Ae*, Ae configurations. Optionally, one can activate the computation of\n",
      "    four electronic band structures. See docstring of from_scf_inputs for further info.\n",
      "    \n"
     ]
    }
   ],
   "source": [
    "print(LumiWork.__doc__)\n"
   ]
  },
  {
   "cell_type": "code",
   "execution_count": 4,
   "id": "7dd115f7-5825-4ab1-a6b9-5a308c0d3917",
   "metadata": {},
   "outputs": [
    {
     "name": "stdout",
     "output_type": "stream",
     "text": [
      "Help on method from_scf_inputs in module abipy.flowtk.lumi_works:\n",
      "\n",
      "from_scf_inputs(gs_scf_inp, ex_scf_inp, relax_kwargs_gs, relax_kwargs_ex, ndivsm=0, nb_extra=10, tolwfr=1e-12, four_points=True, meta=None, manager=None) -> 'LumiWork' class method of abipy.flowtk.lumi_works.LumiWork\n",
      "    Args:\n",
      "        gs_scf_inp: |AbinitInput| representing a GS SCF run for the ground-state.\n",
      "        ex_scf_inp: |AbinitInput| representing a GS SCF run for the excited-state.\n",
      "        relax_kwargs_gs: Dictonary with input variables to be added to gs_scf_inp\n",
      "            when generating input files for ground state structural relaxations.\n",
      "        relax_kwargs_ex: Dictonary with input variables to be added to ex_scf_inp\n",
      "            when generating input files for excited state structural relaxations.\n",
      "        ndivsm: Activates the computation of band structure if different from zero.\n",
      "            if > 0, it's the number of divisions for the smallest segment of the path (Abinit variable).\n",
      "            if < 0, it's interpreted as the pymatgen `line_density` parameter in which the number of points\n",
      "            in the segment is proportional to its length. Typical value: -20.\n",
      "            This option is the recommended one if the k-path contains two high symmetry k-points that are very close\n",
      "            as ndivsm > 0 may produce a very large number of wavevectors.\n",
      "        nb_extra: Number of extra bands added to the input nband when computing band structures (ndivsm != 0).\n",
      "        tolwfr: Tolerance of the residuals used for the NSCF band structure calculations.\n",
      "        four_points : if True, compute the two relaxations and the four points energies.\n",
      "            If false, only the two relaxations.\n",
      "        meta : dict corresponding to the metadata of a lumiwork (supercell size, dopant type,...)\n",
      "        manager: |TaskManager| of the task. If None, the manager is initialized from the config file.\n",
      "\n"
     ]
    }
   ],
   "source": [
    "help(LumiWork.from_scf_inputs)"
   ]
  },
  {
   "cell_type": "code",
   "execution_count": 6,
   "id": "02d914f6-96fb-4b78-8c82-ab6d4752e040",
   "metadata": {},
   "outputs": [],
   "source": [
    "from abipy.core.structure.Structure import make_"
   ]
  },
  {
   "cell_type": "code",
   "execution_count": 12,
   "id": "d4cb9ab0-e487-4f4d-a649-1fb1ebb525e9",
   "metadata": {},
   "outputs": [
    {
     "name": "stdout",
     "output_type": "stream",
     "text": [
      "Help on function make_doped_supercells in module abipy.core.structure:\n",
      "\n",
      "make_doped_supercells(self, scaling_matrix, replaced_atom, dopant_atom)\n",
      "    Returns a list doped supercell structures, one for each non-equivalent site of the replaced atom.\n",
      "    Args:\n",
      "        scaling_matrix: A scaling matrix for transforming the lattice vectors.\n",
      "            Has to be all integers. Several options are possible:\n",
      "            a. A full 3x3 scaling matrix defining the linear combination of the old lattice vectors.\n",
      "                E.g., [[2,1,0],[0,3,0],[0,0,1]] generates a new structure with lattice vectors\n",
      "                a' = 2a + b, b' = 3b, c' = c\n",
      "                where a, b, and c are the lattice vectors of the original structure.\n",
      "            b. A sequence of three scaling factors. e.g., [2, 1, 1]\n",
      "               specifies that the supercell should have dimensions 2a x b x c.\n",
      "            c. A number, which simply scales all lattice vectors by the same factor.\n",
      "        replaced atom : Symbol of the atom to be replaced (ex: 'Sr')\n",
      "        dopant_atom : Symbol of the dopant_atom (ex: 'Eu')\n",
      "\n"
     ]
    }
   ],
   "source": [
    "help(Structure.make_doped_supercells)"
   ]
  },
  {
   "cell_type": "code",
   "execution_count": null,
   "id": "6ee57358-4995-4272-b378-c7e54f54d11c",
   "metadata": {},
   "outputs": [],
   "source": []
  }
 ],
 "metadata": {
  "kernelspec": {
   "display_name": "Python 3 (ipykernel)",
   "language": "python",
   "name": "python3"
  },
  "language_info": {
   "codemirror_mode": {
    "name": "ipython",
    "version": 3
   },
   "file_extension": ".py",
   "mimetype": "text/x-python",
   "name": "python",
   "nbconvert_exporter": "python",
   "pygments_lexer": "ipython3",
   "version": "3.11.9"
  }
 },
 "nbformat": 4,
 "nbformat_minor": 5
}
